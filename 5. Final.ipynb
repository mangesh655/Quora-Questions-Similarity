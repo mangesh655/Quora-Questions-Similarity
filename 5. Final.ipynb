{
 "cells": [
  {
   "cell_type": "code",
   "execution_count": 15,
   "metadata": {},
   "outputs": [],
   "source": [
    "import warnings\n",
    "warnings.filterwarnings(\"ignore\")\n",
    "\n",
    "import pandas as pd\n",
    "import numpy as np\n",
    "\n",
    "import matplotlib.pyplot as plt\n",
    "import re\n",
    "import time\n",
    "import sys\n",
    "import os\n",
    "from tqdm import tqdm_notebook as tqdm\n",
    "import sqlite3\n",
    "import math\n",
    "\n",
    "from sqlalchemy import create_engine\n",
    "from collections import Counter\n",
    "\n",
    "import datetime as dt\n",
    "\n",
    "from sklearn.calibration import CalibratedClassifierCV\n",
    "from sklearn.model_selection import RandomizedSearchCV\n",
    "from sklearn.model_selection import train_test_split\n",
    "from sklearn.model_selection import StratifiedKFold\n",
    "from sklearn.linear_model import SGDClassifier\n",
    "from sklearn.feature_extraction.text import TfidfVectorizer\n",
    "from sklearn.metrics import confusion_matrix\n",
    "from sklearn.metrics.classification import log_loss\n",
    "from sklearn.model_selection import cross_val_score\n",
    "\n",
    "from scipy.sparse import hstack, vstack\n",
    "\n",
    "from xgboost.sklearn import XGBClassifier\n",
    "\n",
    "from gensim.models import Word2Vec\n",
    "\n",
    "import seaborn as sns"
   ]
  },
  {
   "cell_type": "markdown",
   "metadata": {},
   "source": [
    "# 1. models (Logistic regression, Linear-SVM) with simple TF-IDF vectors instead of TD_IDF weighted word2Vec."
   ]
  },
  {
   "cell_type": "code",
   "execution_count": 16,
   "metadata": {
    "scrolled": true
   },
   "outputs": [
    {
     "name": "stdout",
     "output_type": "stream",
     "text": [
      "(404290, 31)\n"
     ]
    }
   ],
   "source": [
    "#prepro_features_train.csv (Simple Preprocessing Feartures)\n",
    "#nlp_features_train.csv (NLP Features)\n",
    "if os.path.isfile('nlp_features_train.csv'):\n",
    "    dfnlp = pd.read_csv(\"nlp_features_train.csv\")\n",
    "    dfnlp = dfnlp.drop(['qid1','qid2'],axis=1)\n",
    "else:\n",
    "    print(\"download nlp_features_train.csv from drive or run previous notebook\")\n",
    "\n",
    "if os.path.isfile('df_fe_without_preprocessing_train.csv'):\n",
    "    dfppro = pd.read_csv(\"df_fe_without_preprocessing_train.csv\")\n",
    "    dfppro = dfppro.drop(['qid1','qid2','question1','question2','is_duplicate'],axis=1)\n",
    "else:\n",
    "    print(\"download df_fe_without_preprocessing_train.csv from drive or run previous notebook\")\n",
    "    \n",
    "\n",
    "#Combining both basic features and nlp features to create final dataset.\n",
    "final_df = pd.DataFrame(np.hstack([dfnlp, dfppro]), columns= ['id', 'question1', 'question2', 'is_duplicate', 'cwc_min', 'cwc_max',\n",
    "       'csc_min', 'csc_max', 'ctc_min', 'ctc_max', 'last_word_eq',\n",
    "       'first_word_eq', 'abs_len_diff', 'mean_len', 'token_set_ratio',\n",
    "       'token_sort_ratio', 'fuzz_ratio', 'fuzz_partial_ratio',\n",
    "       'longest_substr_ratio', 'id', 'freq_qid1', 'freq_qid2', 'q1len', 'q2len', 'q1_n_words',\n",
    "       'q2_n_words', 'word_Common', 'word_Total', 'word_share', 'freq_q1+q2',\n",
    "       'freq_q1-q2'])\n",
    "\n",
    "print(final_df.shape)"
   ]
  },
  {
   "cell_type": "code",
   "execution_count": 17,
   "metadata": {
    "scrolled": true
   },
   "outputs": [
    {
     "name": "stdout",
     "output_type": "stream",
     "text": [
      "            id                                          question1  \\\n",
      "3306      3306                                                NaN   \n",
      "13016    13016                                                NaN   \n",
      "20072    20072                            how could i solve this    \n",
      "20794    20794                                                NaN   \n",
      "47056    47056  is there anywhere in the world offering pain m...   \n",
      "96725    96725                                                NaN   \n",
      "104101  104101                                                NaN   \n",
      "105780  105780                     how can i develop android app    \n",
      "134403  134403                                                NaN   \n",
      "189659  189659                                                NaN   \n",
      "190570  190570                                                NaN   \n",
      "201841  201841                   how can i create an android app    \n",
      "208485  208485                                                NaN   \n",
      "213220  213220                                                NaN   \n",
      "226925  226925  which in the best bike desert storm or himalay...   \n",
      "254161  254161                                                NaN   \n",
      "273065  273065                                                NaN   \n",
      "301583  301583                                                NaN   \n",
      "363362  363362                                                NaN   \n",
      "384293  384293                               how do i solve this    \n",
      "402423  402423                                                NaN   \n",
      "\n",
      "                                                question2 is_duplicate  \\\n",
      "3306    why is cornell own endowment the lowest in the...            0   \n",
      "13016                  why should one not work at google             0   \n",
      "20072                                                 NaN            0   \n",
      "20794   what is the gmail tech support help phone number             0   \n",
      "47056                                                 NaN            0   \n",
      "96725                     who are moses  noah and exodus             0   \n",
      "104101  problem of solving a problem is not a problem ...            0   \n",
      "105780                                                NaN            0   \n",
      "134403  what is your take on the undercover report tha...            0   \n",
      "189659                                       who is noah             0   \n",
      "190570  time is money can some one explain  how it works             0   \n",
      "201841                                                NaN            0   \n",
      "208485  given that pacer makes money from usage  why d...            0   \n",
      "213220                 what is it like to work at google             0   \n",
      "226925                                                NaN            0   \n",
      "254161  how do i convince my non indian friends that n...            0   \n",
      "273065  how can i describe quora  in all its glory  to...            0   \n",
      "301583                        what do i do with this guy             0   \n",
      "363362  my chinese name is haichao yu  what english na...            0   \n",
      "384293                                                NaN            0   \n",
      "402423  what is cisco router technical support phone n...            0   \n",
      "\n",
      "       cwc_min cwc_max csc_min csc_max ctc_min ctc_max  ... freq_qid2 q1len  \\\n",
      "3306         0       0       0       0       0       0  ...         1     1   \n",
      "13016        0       0       0       0       0       0  ...         2     1   \n",
      "20072        0       0       0       0       0       0  ...         2    23   \n",
      "20794        0       0       0       0       0       0  ...         1     1   \n",
      "47056        0       0       0       0       0       0  ...         1   117   \n",
      "96725        0       0       0       0       0       0  ...         1     1   \n",
      "104101       0       0       0       0       0       0  ...         1     1   \n",
      "105780       0       0       0       0       0       0  ...         2    30   \n",
      "134403       0       0       0       0       0       0  ...         2     1   \n",
      "189659       0       0       0       0       0       0  ...         2     1   \n",
      "190570       0       0       0       0       0       0  ...         1     1   \n",
      "201841       0       0       0       0       0       0  ...         2    32   \n",
      "208485       0       0       0       0       0       0  ...         1     1   \n",
      "213220       0       0       0       0       0       0  ...         7     1   \n",
      "226925       0       0       0       0       0       0  ...         1    80   \n",
      "254161       0       0       0       0       0       0  ...         1     1   \n",
      "273065       0       0       0       0       0       0  ...         1     1   \n",
      "301583       0       0       0       0       0       0  ...         1     3   \n",
      "363362       0       0       0       0       0       0  ...         1     0   \n",
      "384293       0       0       0       0       0       0  ...         2    20   \n",
      "402423       0       0       0       0       0       0  ...         5     1   \n",
      "\n",
      "       q2len q1_n_words q2_n_words word_Common word_Total word_share  \\\n",
      "3306      56          1         10           0         10          0   \n",
      "13016     34          1          7           0          8          0   \n",
      "20072      6          5          1           0          6          0   \n",
      "20794     49          1          9           0         10          0   \n",
      "47056      1         19          1           0         19          0   \n",
      "96725     31          1          6           0          7          0   \n",
      "104101   149          1         29           0         18          0   \n",
      "105780     0          6          1           0          7          0   \n",
      "134403   144          1         25           0         24          0   \n",
      "189659    12          1          3           0          4          0   \n",
      "190570    49          1          9           0         10          0   \n",
      "201841     0          7          1           0          8          0   \n",
      "208485   101          1         16           0         17          0   \n",
      "213220    34          1          8           0          9          0   \n",
      "226925     4         17          1           0         17          0   \n",
      "254161   140          1         26           0         25          0   \n",
      "273065    55          1         11           0         12          0   \n",
      "301583    27          1          7           0          7          0   \n",
      "363362   123          1         21           0         18          0   \n",
      "384293     6          5          1           0          6          0   \n",
      "402423    52          1          8           0          9          0   \n",
      "\n",
      "       freq_q1+q2 freq_q1-q2  \n",
      "3306            2          0  \n",
      "13016           4          0  \n",
      "20072           4          0  \n",
      "20794           2          0  \n",
      "47056           4          2  \n",
      "96725           3          1  \n",
      "104101          2          0  \n",
      "105780          4          0  \n",
      "134403          4          0  \n",
      "189659          4          0  \n",
      "190570          2          0  \n",
      "201841          3          1  \n",
      "208485          2          0  \n",
      "213220          9          5  \n",
      "226925          2          0  \n",
      "254161          3          1  \n",
      "273065          2          0  \n",
      "301583          2          0  \n",
      "363362          2          0  \n",
      "384293          3          1  \n",
      "402423          6          4  \n",
      "\n",
      "[21 rows x 31 columns]\n"
     ]
    }
   ],
   "source": [
    "#Checking for null Values\n",
    "nan_rows = final_df[final_df.isnull().any(1)]\n",
    "print (nan_rows)"
   ]
  },
  {
   "cell_type": "code",
   "execution_count": 18,
   "metadata": {},
   "outputs": [
    {
     "name": "stdout",
     "output_type": "stream",
     "text": [
      "Empty DataFrame\n",
      "Columns: [id, question1, question2, is_duplicate, cwc_min, cwc_max, csc_min, csc_max, ctc_min, ctc_max, last_word_eq, first_word_eq, abs_len_diff, mean_len, token_set_ratio, token_sort_ratio, fuzz_ratio, fuzz_partial_ratio, longest_substr_ratio, id, freq_qid1, freq_qid2, q1len, q2len, q1_n_words, q2_n_words, word_Common, word_Total, word_share, freq_q1+q2, freq_q1-q2]\n",
      "Index: []\n",
      "\n",
      "[0 rows x 31 columns]\n"
     ]
    }
   ],
   "source": [
    "#filling '' for null values\n",
    "final_df = final_df.fillna('')\n",
    "nan_rows = final_df[final_df.isnull().any(1)]\n",
    "print (nan_rows)"
   ]
  },
  {
   "cell_type": "code",
   "execution_count": 19,
   "metadata": {},
   "outputs": [
    {
     "name": "stdout",
     "output_type": "stream",
     "text": [
      "Number of data points in train data : (70000, 28)\n",
      "Number of data points in test data : (30000, 28)\n"
     ]
    }
   ],
   "source": [
    "#Selecting only 100k points.\n",
    "\n",
    "final_df_100k = final_df[['question1', 'question2', 'is_duplicate', 'cwc_min', 'cwc_max', 'csc_min', 'csc_max', 'ctc_min',\n",
    "                         'ctc_max', 'last_word_eq', 'first_word_eq', 'abs_len_diff', 'mean_len', 'token_set_ratio',\n",
    "                         'token_sort_ratio', 'fuzz_ratio', 'fuzz_partial_ratio', 'longest_substr_ratio', 'freq_qid1', \n",
    "                         'freq_qid2', 'q1len', 'q2len', 'q1_n_words', 'q2_n_words', 'word_Common', 'word_Total',\n",
    "                         'word_share', 'freq_q1+q2', 'freq_q1-q2']].sample(n=100000)\n",
    "\n",
    "x = final_df_100k.drop(['is_duplicate'], axis=1)\n",
    "y = final_df_100k['is_duplicate']\n",
    "\n",
    "x_train_temp, x_test_temp, y_train, y_test = train_test_split(x, y, stratify=y, test_size=0.3)\n",
    "\n",
    "print(\"Number of data points in train data :\",x_train_temp.shape)\n",
    "print(\"Number of data points in test data :\",x_test_temp.shape)"
   ]
  },
  {
   "cell_type": "code",
   "execution_count": 20,
   "metadata": {},
   "outputs": [
    {
     "name": "stdout",
     "output_type": "stream",
     "text": [
      "(70000, 8524)\n",
      "(70000, 8375)\n",
      "(30000, 8524)\n",
      "(30000, 8375)\n"
     ]
    }
   ],
   "source": [
    "tfidf_q1 = TfidfVectorizer(lowercase=False, min_df=5)\n",
    "\n",
    "tfidf_train_q1 = tfidf_q1.fit_transform(x_train_temp['question1'])\n",
    "tfidf_test_q1 = tfidf_q1.transform(x_test_temp['question1'])\n",
    "\n",
    "tfidf_q2 = TfidfVectorizer(lowercase=False, min_df=5)\n",
    "\n",
    "tfidf_train_q2 = tfidf_q2.fit_transform(x_train_temp['question2'])\n",
    "tfidf_test_q2 = tfidf_q2.transform(x_test_temp['question2'])\n",
    "\n",
    "print(tfidf_train_q1.shape)\n",
    "print(tfidf_train_q2.shape)\n",
    "print(tfidf_test_q1.shape)\n",
    "print(tfidf_test_q2.shape)"
   ]
  },
  {
   "cell_type": "code",
   "execution_count": 136,
   "metadata": {},
   "outputs": [
    {
     "name": "stdout",
     "output_type": "stream",
     "text": [
      "(70000, 16870)\n",
      "(30000, 16870)\n"
     ]
    }
   ],
   "source": [
    "#combining all the columns[nlp_features, basic features, tfidf_vec] to create final train and test dataset.\n",
    "\n",
    "#removing 'question1' and 'question2' column from dataset.\n",
    "x_train_temp.drop(['question1', 'question2'], axis=1, inplace=True)\n",
    "x_test_temp.drop(['question1', 'question2'], axis=1, inplace=True)\n",
    "\n",
    "#stacking tfidf vectors of question1 and question2\n",
    "train_tfidf = hstack([tfidf_train_q1, tfidf_train_q2])\n",
    "test_tfidf = hstack([tfidf_test_q1, tfidf_test_q2])\n",
    "\n",
    "#finally combining/stcking nlp+basic+tfidf features\n",
    "x_train_nlp_ppro_arr = x_train_temp.to_numpy()\n",
    "x_test_nlp_ppro_arr = x_test_temp.to_numpy()\n",
    "\n",
    "X_train = hstack([x_train_nlp_ppro_arr, train_tfidf])\n",
    "X_test = hstack([x_test_nlp_ppro_arr, test_tfidf])\n",
    "\n",
    "print(X_train.shape)\n",
    "print(X_test.shape)"
   ]
  },
  {
   "cell_type": "code",
   "execution_count": 137,
   "metadata": {},
   "outputs": [
    {
     "name": "stdout",
     "output_type": "stream",
     "text": [
      "---------- Distribution of output variable in train data ----------\n",
      "Class 0:  0.6297428571428572 Class 1:  0.37025714285714284\n",
      "---------- Distribution of output variable in test data ----------\n",
      "Class 0:  0.3702666666666667 Class 1:  0.3702666666666667\n"
     ]
    }
   ],
   "source": [
    "print(\"-\"*10, \"Distribution of output variable in train data\", \"-\"*10)\n",
    "train_distr = Counter(y_train)\n",
    "train_len = len(y_train)\n",
    "print(\"Class 0: \",int(train_distr[0])/train_len,\"Class 1: \", int(train_distr[1])/train_len)\n",
    "print(\"-\"*10, \"Distribution of output variable in test data\", \"-\"*10)\n",
    "test_distr = Counter(y_test)\n",
    "test_len = len(y_test)\n",
    "print(\"Class 0: \",int(test_distr[1])/test_len, \"Class 1: \",int(test_distr[1])/test_len)"
   ]
  },
  {
   "cell_type": "code",
   "execution_count": 33,
   "metadata": {},
   "outputs": [],
   "source": [
    "# This function plots the confusion matrices given y_i, y_i_hat.\n",
    "def plot_confusion_matrix(test_y, predict_y):\n",
    "    C = confusion_matrix(test_y, predict_y)\n",
    "    # C = 9,9 matrix, each cell (i,j) represents number of points of class i are predicted class j\n",
    "    \n",
    "    A =(((C.T)/(C.sum(axis=1))).T)\n",
    "    #divid each element of the confusion matrix with the sum of elements in that column\n",
    "    \n",
    "    # C = [[1, 2],\n",
    "    #     [3, 4]]\n",
    "    # C.T = [[1, 3],\n",
    "    #        [2, 4]]\n",
    "    # C.sum(axis = 1)  axis=0 corresonds to columns and axis=1 corresponds to rows in two diamensional array\n",
    "    # C.sum(axix =1) = [[3, 7]]\n",
    "    # ((C.T)/(C.sum(axis=1))) = [[1/3, 3/7]\n",
    "    #                           [2/3, 4/7]]\n",
    "\n",
    "    # ((C.T)/(C.sum(axis=1))).T = [[1/3, 2/3]\n",
    "    #                           [3/7, 4/7]]\n",
    "    # sum of row elements = 1\n",
    "    \n",
    "    B =(C/C.sum(axis=0))\n",
    "    #divid each element of the confusion matrix with the sum of elements in that row\n",
    "    # C = [[1, 2],\n",
    "    #     [3, 4]]\n",
    "    # C.sum(axis = 0)  axis=0 corresonds to columns and axis=1 corresponds to rows in two diamensional array\n",
    "    # C.sum(axix =0) = [[4, 6]]\n",
    "    # (C/C.sum(axis=0)) = [[1/4, 2/6],\n",
    "    #                      [3/4, 4/6]] \n",
    "    plt.figure(figsize=(20,4))\n",
    "    \n",
    "    labels = [1,2]\n",
    "    # representing A in heatmap format\n",
    "    cmap=sns.light_palette(\"blue\")\n",
    "    plt.subplot(1, 3, 1)\n",
    "    sns.heatmap(C, annot=True, cmap=cmap, fmt=\".3f\", xticklabels=labels, yticklabels=labels)\n",
    "    plt.xlabel('Predicted Class')\n",
    "    plt.ylabel('Original Class')\n",
    "    plt.title(\"Confusion matrix\")\n",
    "    \n",
    "    plt.subplot(1, 3, 2)\n",
    "    sns.heatmap(B, annot=True, cmap=cmap, fmt=\".3f\", xticklabels=labels, yticklabels=labels)\n",
    "    plt.xlabel('Predicted Class')\n",
    "    plt.ylabel('Original Class')\n",
    "    plt.title(\"Precision matrix\")\n",
    "    \n",
    "    plt.subplot(1, 3, 3)\n",
    "    # representing B in heatmap format\n",
    "    sns.heatmap(A, annot=True, cmap=cmap, fmt=\".3f\", xticklabels=labels, yticklabels=labels)\n",
    "    plt.xlabel('Predicted Class')\n",
    "    plt.ylabel('Original Class')\n",
    "    plt.title(\"Recall matrix\")\n",
    "    \n",
    "    plt.show()"
   ]
  },
  {
   "cell_type": "markdown",
   "metadata": {},
   "source": [
    "# 1.1. Logistic Regression with TF-IDF Vectorizer."
   ]
  },
  {
   "cell_type": "code",
   "execution_count": 139,
   "metadata": {},
   "outputs": [
    {
     "name": "stdout",
     "output_type": "stream",
     "text": [
      "For values of alpha =  1e-05 The log loss is: 0.45631369689385554\n",
      "For values of alpha =  0.0001 The log loss is: 0.4613069885883901\n",
      "For values of alpha =  0.001 The log loss is: 0.46046476478615367\n",
      "For values of alpha =  0.01 The log loss is: 0.4578037046622141\n",
      "For values of alpha =  0.1 The log loss is: 0.46545724833506874\n",
      "For values of alpha =  1 The log loss is: 0.4964168255111216\n",
      "For values of alpha =  10 The log loss is: 0.5351901688289536\n"
     ]
    },
    {
     "data": {
      "image/png": "[encoded data removed]",
      "text/plain": [
       "<Figure size 432x288 with 1 Axes>"
      ]
     },
     "metadata": {},
     "output_type": "display_data"
    },
    {
     "name": "stdout",
     "output_type": "stream",
     "text": [
      "For values of best alpha =  1e-05 The train log loss is: 0.4499641360182757\n",
      "For values of best alpha =  1e-05 The test log loss is: 0.45631369689385554\n",
      "Total number of data points : 30000\n"
     ]
    },
    {
     "data": {
      "image/png": "[encoded data removed]",
      "text/plain": [
       "<Figure size 1440x288 with 6 Axes>"
      ]
     },
     "metadata": {},
     "output_type": "display_data"
    }
   ],
   "source": [
    "alpha = [10 ** x for x in range(-5, 2)] # hyperparam for SGD classifier.\n",
    "\n",
    "# read more about SGDClassifier() at http://scikit-learn.org/stable/modules/generated/sklearn.linear_model.SGDClassifier.html\n",
    "# ------------------------------\n",
    "# default parameters\n",
    "# SGDClassifier(loss=’hinge’, penalty=’l2’, alpha=0.0001, l1_ratio=0.15, fit_intercept=True, max_iter=None, tol=None, \n",
    "# shuffle=True, verbose=0, epsilon=0.1, n_jobs=1, random_state=None, learning_rate=’optimal’, eta0=0.0, power_t=0.5, \n",
    "# class_weight=None, warm_start=False, average=False, n_iter=None)\n",
    "\n",
    "# some of methods\n",
    "# fit(X, y[, coef_init, intercept_init, …])\tFit linear model with Stochastic Gradient Descent.\n",
    "# predict(X)\tPredict class labels for samples in X.\n",
    "\n",
    "#-------------------------------\n",
    "# video link: \n",
    "#------------------------------\n",
    "\n",
    "\n",
    "log_error_array=[]\n",
    "for i in alpha:\n",
    "    clf = SGDClassifier(alpha=i, penalty='l2', loss='log', random_state=42, class_weight = \"balanced\")\n",
    "    clf.fit(X_train, y_train)\n",
    "    sig_clf = CalibratedClassifierCV(clf, method=\"sigmoid\")\n",
    "    sig_clf.fit(X_train, y_train)\n",
    "    predict_y = sig_clf.predict_proba(X_test)\n",
    "    log_error_array.append(log_loss(y_test, predict_y, labels=clf.classes_, eps=1e-15))\n",
    "    print('For values of alpha = ', i, \"The log loss is:\",log_loss(y_test, predict_y, labels=clf.classes_, eps=1e-15))\n",
    "\n",
    "fig, ax = plt.subplots()\n",
    "ax.plot(alpha, log_error_array,c='g')\n",
    "for i, txt in enumerate(np.round(log_error_array,3)):\n",
    "    ax.annotate((alpha[i],np.round(txt,3)), (alpha[i],log_error_array[i]))\n",
    "plt.grid()\n",
    "plt.title(\"Cross Validation Error for each alpha\")\n",
    "plt.xlabel(\"Alpha i's\")\n",
    "plt.ylabel(\"Error measure\")\n",
    "plt.show()\n",
    "\n",
    "\n",
    "best_alpha = np.argmin(log_error_array)\n",
    "clf = SGDClassifier(alpha=alpha[best_alpha], penalty='l2', loss='log', random_state=42, class_weight = \"balanced\")\n",
    "clf.fit(X_train, y_train)\n",
    "sig_clf = CalibratedClassifierCV(clf, method=\"sigmoid\")\n",
    "sig_clf.fit(X_train, y_train)\n",
    "\n",
    "predict_y = sig_clf.predict_proba(X_train)\n",
    "print('For values of best alpha = ', alpha[best_alpha], \"The train log loss is:\",log_loss(y_train, predict_y, labels=clf.classes_, eps=1e-15))\n",
    "predict_y = sig_clf.predict_proba(X_test)\n",
    "print('For values of best alpha = ', alpha[best_alpha], \"The test log loss is:\",log_loss(y_test, predict_y, labels=clf.classes_, eps=1e-15))\n",
    "predicted_y =np.argmax(predict_y,axis=1)\n",
    "print(\"Total number of data points :\", len(predicted_y))\n",
    "plot_confusion_matrix(y_test, predicted_y)"
   ]
  },
  {
   "cell_type": "markdown",
   "metadata": {},
   "source": [
    "# 1.2. Linear SVM with TF-IDF Vectorizer.¶"
   ]
  },
  {
   "cell_type": "code",
   "execution_count": 140,
   "metadata": {},
   "outputs": [
    {
     "name": "stdout",
     "output_type": "stream",
     "text": [
      "For values of alpha =  1e-05 The log loss is: 0.47994959769394574\n",
      "For values of alpha =  0.0001 The log loss is: 0.49542447070996143\n",
      "For values of alpha =  0.001 The log loss is: 0.5120678721750362\n",
      "For values of alpha =  0.01 The log loss is: 0.5174736640254307\n",
      "For values of alpha =  0.1 The log loss is: 0.507214282075017\n",
      "For values of alpha =  1 The log loss is: 0.5923965775943995\n",
      "For values of alpha =  10 The log loss is: 0.6291623157360047\n"
     ]
    },
    {
     "data": {
      "image/png": "[encoded data removed]",
      "text/plain": [
       "<Figure size 432x288 with 1 Axes>"
      ]
     },
     "metadata": {},
     "output_type": "display_data"
    },
    {
     "name": "stdout",
     "output_type": "stream",
     "text": [
      "For values of best alpha =  1e-05 The train log loss is: 0.4734663444967557\n",
      "For values of best alpha =  1e-05 The test log loss is: 0.47994959769394574\n",
      "Total number of data points : 30000\n"
     ]
    },
    {
     "data": {
      "image/png": "[encoded data removed]",
      "text/plain": [
       "<Figure size 1440x288 with 6 Axes>"
      ]
     },
     "metadata": {},
     "output_type": "display_data"
    }
   ],
   "source": [
    "alpha = [10 ** x for x in range(-5, 2)] # hyperparam for SGD classifier.\n",
    "\n",
    "# read more about SGDClassifier() at http://scikit-learn.org/stable/modules/generated/sklearn.linear_model.SGDClassifier.html\n",
    "# ------------------------------\n",
    "# default parameters\n",
    "# SGDClassifier(loss=’hinge’, penalty=’l2’, alpha=0.0001, l1_ratio=0.15, fit_intercept=True, max_iter=None, tol=None, \n",
    "# shuffle=True, verbose=0, epsilon=0.1, n_jobs=1, random_state=None, learning_rate=’optimal’, eta0=0.0, power_t=0.5, \n",
    "# class_weight=None, warm_start=False, average=False, n_iter=None)\n",
    "\n",
    "# some of methods\n",
    "# fit(X, y[, coef_init, intercept_init, …])\tFit linear model with Stochastic Gradient Descent.\n",
    "# predict(X)\tPredict class labels for samples in X.\n",
    "\n",
    "#-------------------------------\n",
    "# video link: \n",
    "#------------------------------\n",
    "\n",
    "\n",
    "log_error_array=[]\n",
    "for i in alpha:\n",
    "    clf = SGDClassifier(alpha=i, penalty='l1', loss='hinge', random_state=42)\n",
    "    clf.fit(X_train, y_train)\n",
    "    sig_clf = CalibratedClassifierCV(clf, method=\"sigmoid\")\n",
    "    sig_clf.fit(X_train, y_train)\n",
    "    predict_y = sig_clf.predict_proba(X_test)\n",
    "    log_error_array.append(log_loss(y_test, predict_y, labels=clf.classes_, eps=1e-15))\n",
    "    print('For values of alpha = ', i, \"The log loss is:\",log_loss(y_test, predict_y, labels=clf.classes_, eps=1e-15))\n",
    "\n",
    "fig, ax = plt.subplots()\n",
    "ax.plot(alpha, log_error_array,c='g')\n",
    "for i, txt in enumerate(np.round(log_error_array,3)):\n",
    "    ax.annotate((alpha[i],np.round(txt,3)), (alpha[i],log_error_array[i]))\n",
    "plt.grid()\n",
    "plt.title(\"Cross Validation Error for each alpha\")\n",
    "plt.xlabel(\"Alpha i's\")\n",
    "plt.ylabel(\"Error measure\")\n",
    "plt.show()\n",
    "\n",
    "\n",
    "best_alpha = np.argmin(log_error_array)\n",
    "clf = SGDClassifier(alpha=alpha[best_alpha], penalty='l1', loss='hinge', random_state=42)\n",
    "clf.fit(X_train, y_train)\n",
    "sig_clf = CalibratedClassifierCV(clf, method=\"sigmoid\")\n",
    "sig_clf.fit(X_train, y_train)\n",
    "\n",
    "predict_y = sig_clf.predict_proba(X_train)\n",
    "print('For values of best alpha = ', alpha[best_alpha], \"The train log loss is:\",log_loss(y_train, predict_y, labels=clf.classes_, eps=1e-15))\n",
    "predict_y = sig_clf.predict_proba(X_test)\n",
    "print('For values of best alpha = ', alpha[best_alpha], \"The test log loss is:\",log_loss(y_test, predict_y, labels=clf.classes_, eps=1e-15))\n",
    "predicted_y =np.argmax(predict_y,axis=1)\n",
    "print(\"Total number of data points :\", len(predicted_y))\n",
    "plot_confusion_matrix(y_test, predicted_y)"
   ]
  },
  {
   "cell_type": "markdown",
   "metadata": {},
   "source": [
    "# 2. Hyperparameter tune XgBoost using RandomSearch to reduce the log-loss."
   ]
  },
  {
   "cell_type": "code",
   "execution_count": 21,
   "metadata": {},
   "outputs": [],
   "source": [
    "def tfidf_w2v(list_of_sent, w2v_model, w2v_words, tfidf_feat, dictionary) :\n",
    "    row=0;\n",
    "    tfidf_sent_vectors=[]\n",
    "    for sent in tqdm(list_of_sent): # for each review/sentence \n",
    "        sent_vec = np.zeros(300) # as word vectors are of zero length\n",
    "        weight_sum =0; # num of words with a valid vector in the sentence/review\n",
    "        for word in sent: # for each word in a review/sentence\n",
    "            if word in w2v_words and word in tfidf_feat:\n",
    "                vec = w2v_model.wv[word]\n",
    "                tf_idf = dictionary[word]*sent.count(word)\n",
    "                sent_vec += (vec * tf_idf)\n",
    "                weight_sum += tf_idf\n",
    "        if weight_sum != 0:\n",
    "            sent_vec /= weight_sum\n",
    "        tfidf_sent_vectors.append(sent_vec)\n",
    "        row += 1\n",
    "\n",
    "    return pd.DataFrame(tfidf_sent_vectors)"
   ]
  },
  {
   "cell_type": "code",
   "execution_count": 22,
   "metadata": {
    "scrolled": false
   },
   "outputs": [
    {
     "name": "stdout",
     "output_type": "stream",
     "text": [
      "TFIDF W2V for Train Q1\n"
     ]
    },
    {
     "data": {
      "application/vnd.jupyter.widget-view+json": {
       "model_id": "0890e94b2fdc4f01b3a03fae0a80ae2f",
       "version_major": 2,
       "version_minor": 0
      },
      "text/plain": [
       "HBox(children=(IntProgress(value=0, max=70000), HTML(value='')))"
      ]
     },
     "metadata": {},
     "output_type": "display_data"
    },
    {
     "name": "stdout",
     "output_type": "stream",
     "text": [
      "\n",
      "TFIDF W2V for Train Q2\n"
     ]
    },
    {
     "data": {
      "application/vnd.jupyter.widget-view+json": {
       "model_id": "71d3d908dcee4c6ca8a90a36c3d66781",
       "version_major": 2,
       "version_minor": 0
      },
      "text/plain": [
       "HBox(children=(IntProgress(value=0, max=70000), HTML(value='')))"
      ]
     },
     "metadata": {},
     "output_type": "display_data"
    },
    {
     "name": "stdout",
     "output_type": "stream",
     "text": [
      "\n",
      "TFIDF W2V for Test Q1\n"
     ]
    },
    {
     "data": {
      "application/vnd.jupyter.widget-view+json": {
       "model_id": "bee8208fa538446e8f45048f8ee11a36",
       "version_major": 2,
       "version_minor": 0
      },
      "text/plain": [
       "HBox(children=(IntProgress(value=0, max=30000), HTML(value='')))"
      ]
     },
     "metadata": {},
     "output_type": "display_data"
    },
    {
     "name": "stdout",
     "output_type": "stream",
     "text": [
      "\n",
      "TFIDF W2V for Test Q2\n"
     ]
    },
    {
     "data": {
      "application/vnd.jupyter.widget-view+json": {
       "model_id": "252b7f89422b46869e71865d85e4b9b4",
       "version_major": 2,
       "version_minor": 0
      },
      "text/plain": [
       "HBox(children=(IntProgress(value=0, max=30000), HTML(value='')))"
      ]
     },
     "metadata": {},
     "output_type": "display_data"
    },
    {
     "name": "stdout",
     "output_type": "stream",
     "text": [
      "\n",
      "(70000, 300)\n",
      "(70000, 300)\n",
      "(30000, 300)\n",
      "(30000, 300)\n"
     ]
    }
   ],
   "source": [
    "'''Using TF-IDF Model which is already created above.'''\n",
    "\n",
    "train_q1_list_of_sent=[]\n",
    "train_q2_list_of_sent=[]\n",
    "test_q1_list_of_sent=[]\n",
    "test_q2_list_of_sent=[]\n",
    "\n",
    "for sent in x_train_temp['question1'].values.astype('U'):\n",
    "    train_q1_list_of_sent.append(sent.split())\n",
    "    \n",
    "for sent in x_train_temp['question2'].values.astype('U'):\n",
    "    train_q2_list_of_sent.append(sent.split())\n",
    "\n",
    "for sent in x_test_temp['question1'].values.astype('U'):\n",
    "    test_q1_list_of_sent.append(sent.split())\n",
    "\n",
    "for sent in x_test_temp['question2'].values.astype('U'):\n",
    "    test_q2_list_of_sent.append(sent.split())\n",
    "\n",
    "w2v_q1_model=Word2Vec(train_q1_list_of_sent, min_count=5, size=300, workers=2)\n",
    "w2v_q2_model=Word2Vec(train_q2_list_of_sent, min_count=5, size=300, workers=2)\n",
    "\n",
    "w2v_q1_words = list(w2v_q1_model.wv.vocab)\n",
    "w2v_q2_words = list(w2v_q1_model.wv.vocab)\n",
    "\n",
    "# we are converting a dictionary with word as a key, and the idf as a value\n",
    "dictionary_q1 = dict(zip(tfidf_q1.get_feature_names(), list(tfidf_q1.idf_)))\n",
    "dictionary_q2 = dict(zip(tfidf_q2.get_feature_names(), list(tfidf_q2.idf_)))\n",
    "\n",
    "print(\"TFIDF W2V for Train Q1\")\n",
    "tfidfw2v_train_q1 = tfidf_w2v(train_q1_list_of_sent, w2v_q1_model, w2v_q1_words, tfidf_q1.get_feature_names(), dictionary_q1)\n",
    "print(\"TFIDF W2V for Train Q2\")\n",
    "tfidfw2v_train_q2 = tfidf_w2v(train_q2_list_of_sent, w2v_q2_model, w2v_q2_words, tfidf_q2.get_feature_names(), dictionary_q2)\n",
    "print(\"TFIDF W2V for Test Q1\")\n",
    "tfidfw2v_test_q1 = tfidf_w2v(test_q1_list_of_sent, w2v_q1_model, w2v_q1_words, tfidf_q1.get_feature_names(), dictionary_q1)\n",
    "print(\"TFIDF W2V for Test Q2\")\n",
    "tfidfw2v_test_q2 = tfidf_w2v(test_q2_list_of_sent, w2v_q2_model, w2v_q2_words, tfidf_q2.get_feature_names(), dictionary_q2)\n",
    "\n",
    "print(tfidfw2v_train_q1.shape)\n",
    "print(tfidfw2v_train_q2.shape)\n",
    "print(tfidfw2v_test_q1.shape)\n",
    "print(tfidfw2v_test_q2.shape)"
   ]
  },
  {
   "cell_type": "code",
   "execution_count": 27,
   "metadata": {},
   "outputs": [
    {
     "name": "stdout",
     "output_type": "stream",
     "text": [
      "(70000, 626)\n",
      "(30000, 626)\n"
     ]
    }
   ],
   "source": [
    "#combining all the columns[nlp_features, basic features, tfidf_vec] to create final train and test dataset.\n",
    "\n",
    "#removing 'question1' and 'question2' column from dataset.\n",
    "x_train_temp.drop(['question1', 'question2'], axis=1, inplace=True)\n",
    "x_test_temp.drop(['question1', 'question2'], axis=1, inplace=True)\n",
    "\n",
    "#stacking tfidf vectors of question1 and question2\n",
    "train_tfidfw2v = np.hstack([tfidfw2v_train_q1, tfidfw2v_train_q2])\n",
    "test_tfidfw2v = np.hstack([tfidfw2v_test_q1, tfidfw2v_test_q2])\n",
    "\n",
    "#finally combining/stcking nlp+basic+tfidf features\n",
    "x_train_nlp_ppro_arr = x_train_temp.to_numpy()\n",
    "x_test_nlp_ppro_arr = x_test_temp.to_numpy()\n",
    "\n",
    "X_train = np.hstack([x_train_nlp_ppro_arr, train_tfidfw2v])\n",
    "X_test = np.hstack([x_test_nlp_ppro_arr, test_tfidfw2v])\n",
    "\n",
    "print(X_train.shape)\n",
    "print(X_test.shape)"
   ]
  },
  {
   "cell_type": "code",
   "execution_count": 29,
   "metadata": {},
   "outputs": [
    {
     "name": "stdout",
     "output_type": "stream",
     "text": [
      "---------- Distribution of output variable in train data ----------\n",
      "Class 0:  0.6313142857142857 Class 1:  0.3686857142857143\n",
      "---------- Distribution of output variable in train data ----------\n",
      "Class 0:  0.6313 Class 1:  0.3687\n"
     ]
    }
   ],
   "source": [
    "print(\"-\"*10, \"Distribution of output variable in train data\", \"-\"*10)\n",
    "train_distr = Counter(y_train)\n",
    "train_len = len(y_train)\n",
    "print(\"Class 0: \",int(train_distr[0])/train_len,\"Class 1: \", int(train_distr[1])/train_len)\n",
    "print(\"-\"*10, \"Distribution of output variable in train data\", \"-\"*10)\n",
    "test_distr = Counter(y_test)\n",
    "test_len = len(y_test)\n",
    "print(\"Class 0: \",int(test_distr[0])/test_len, \"Class 1: \",int(test_distr[1])/test_len)"
   ]
  },
  {
   "cell_type": "code",
   "execution_count": 32,
   "metadata": {
    "scrolled": false
   },
   "outputs": [
    {
     "name": "stdout",
     "output_type": "stream",
     "text": [
      "Fitting 3 folds for each of 10 candidates, totalling 30 fits\n"
     ]
    },
    {
     "name": "stderr",
     "output_type": "stream",
     "text": [
      "[Parallel(n_jobs=-1)]: Done  30 out of  30 | elapsed: 119.5min finished\n"
     ]
    },
    {
     "name": "stdout",
     "output_type": "stream",
     "text": [
      "Optimal Number of estimators : 200\n",
      "Optimal Maximum Depth: 4\n",
      "Optimal alpha: 0.00\n",
      "Train log loss is :  -0.0\n"
     ]
    }
   ],
   "source": [
    "#Randomized Search with XGBClassifier\n",
    "\n",
    "xgb_clf = XGBClassifier(objective='binary:logistic', n_jobs= -1)\n",
    "\n",
    "param_distributions = {\n",
    "    'alpha' : [10**-5, 10**-4, 10**-3, 10**-2, 10**-1],\n",
    "    'max_depth' : [1, 2, 4, 8, 16],\n",
    "    'n_estimators' : [32, 64, 100, 200]\n",
    "}\n",
    "\n",
    "skf = StratifiedKFold(n_splits=3, shuffle = True)\n",
    "\n",
    "rsc = RandomizedSearchCV(xgb_clf, \n",
    "                         param_distributions,\n",
    "                         n_iter=10, \n",
    "                         scoring='log_loss',\n",
    "                         cv=skf.split(X_train, y_train),\n",
    "                         verbose = 3,\n",
    "                         n_jobs=-1)\n",
    "\n",
    "rsc.fit(X_train, y_train)\n",
    "\n",
    "best_estimators = rsc.best_params_['n_estimators']\n",
    "best_depth = rsc.best_params_[\"max_depth\"]\n",
    "best_alpha = rsc.best_params_[\"alpha\"]\n",
    "\n",
    "print(\"Optimal Number of estimators : %d\" %(best_estimators))\n",
    "print(\"Optimal Maximum Depth: %d\" %(best_depth))\n",
    "print(\"Optimal alpha: %.2f\" %(best_alpha))\n",
    "\n",
    "best_result_train = np.round(rsc.best_score_)\n",
    "print(\"Train log loss is : \", best_result_train)"
   ]
  },
  {
   "cell_type": "code",
   "execution_count": 34,
   "metadata": {
    "scrolled": false
   },
   "outputs": [
    {
     "name": "stdout",
     "output_type": "stream",
     "text": [
      "For values of best alpha =  0.001 max_depth =  4  and n_estimators =  200 The train log loss is: 0.30890645290871344\n",
      "For values of best alpha =  0.001 max_depth =  4  and n_estimators =  200 The train log loss is: 0.34149414891733143\n",
      "Total number of data points : 30000\n"
     ]
    },
    {
     "data": {
      "image/png": "[encoded data removed]",
      "text/plain": [
       "<Figure size 1440x288 with 6 Axes>"
      ]
     },
     "metadata": {},
     "output_type": "display_data"
    }
   ],
   "source": [
    "xgb_clf = XGBClassifier(objective='binary:logistic',\n",
    "                        eval_metric = 'logloss',\n",
    "                        alpha = best_alpha,\n",
    "                        max_depth = best_depth,\n",
    "                        n_estimators = best_estimators,\n",
    "                        n_jobs = -1)\n",
    "\n",
    "xgb_clf.fit(X_train, y_train)\n",
    "\n",
    "sig_clf = CalibratedClassifierCV(xgb_clf, method=\"sigmoid\")\n",
    "sig_clf.fit(X_train, y_train)\n",
    "\n",
    "predict_y = sig_clf.predict_proba(X_train)\n",
    "print('For values of best alpha = ', best_alpha, 'max_depth = ', best_depth ,' and n_estimators = ', best_estimators, \"The train log loss is:\",log_loss(y_train, predict_y, labels=xgb_clf.classes_, eps=1e-15))\n",
    "predict_y = sig_clf.predict_proba(X_test)\n",
    "print('For values of best alpha = ', best_alpha, 'max_depth = ', best_depth ,' and n_estimators = ', best_estimators, \"The train log loss is:\",log_loss(y_test, predict_y, labels=xgb_clf.classes_, eps=1e-15))\n",
    "predicted_y =np.argmax(predict_y, axis=1)\n",
    "print(\"Total number of data points :\", len(predicted_y))\n",
    "plot_confusion_matrix(y_test, predicted_y)"
   ]
  },
  {
   "cell_type": "markdown",
   "metadata": {},
   "source": [
    "# Conclusion"
   ]
  },
  {
   "cell_type": "markdown",
   "metadata": {},
   "source": [
    "1. models (Logistic regression, Linear-SVM) with simple TF-IDF vectors instead of TD_IDF weighted word2Vec.\n",
    "    i. When used TF-IDF vectors, model predicted all test samples to be belong to class 1 as class 1 is majority class here.            which is not desired results.\n",
    "\n",
    "2. Hyperparameter tune XgBoost using RandomSearch to reduce the log-loss.\n",
    "   i. when used Xgboost with tuning of hyperparamater, it is giving the best log loss(0.34), precision and recall values among         all other models."
   ]
  },
  {
   "cell_type": "code",
   "execution_count": null,
   "metadata": {},
   "outputs": [],
   "source": []
  }
 ],
 "metadata": {
  "kernelspec": {
   "display_name": "Python 3",
   "language": "python",
   "name": "python3"
  },
  "language_info": {
   "codemirror_mode": {
    "name": "ipython",
    "version": 3
   },
   "file_extension": ".py",
   "mimetype": "text/x-python",
   "name": "python",
   "nbconvert_exporter": "python",
   "pygments_lexer": "ipython3",
   "version": "3.6.5"
  }
 },
 "nbformat": 4,
 "nbformat_minor": 2
}
